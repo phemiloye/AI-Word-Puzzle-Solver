{
 "cells": [
  {
   "cell_type": "code",
   "execution_count": 1,
   "id": "6607d5d1",
   "metadata": {},
   "outputs": [],
   "source": [
    "import cv2\n",
    "import numpy as np\n",
    "import matplotlib.pyplot as plt\n",
    "\n",
    "from warnings import filterwarnings\n",
    "filterwarnings(action='ignore')\n",
    "\n",
    "%matplotlib inline"
   ]
  },
  {
   "cell_type": "markdown",
   "id": "818c9f89",
   "metadata": {},
   "source": [
    "# *Load Images*"
   ]
  },
  {
   "cell_type": "code",
   "execution_count": 2,
   "id": "115c7e3a",
   "metadata": {},
   "outputs": [],
   "source": [
    "puzzle_one = cv2.imread(\"images/c_puzzle_1.jpg\")\n",
    "puzzle_two =  cv2.imread(\"images/c_puzzle_2.png\")\n",
    "puzzle_three =  cv2.imread(\"images/c_puzzle_3.jpg\")\n",
    "puzzle_four =  cv2.imread(\"images/c_puzzle_4.png\")\n",
    "puzzle_five =  cv2.imread(\"images/c_puzzle_5.png\")\n",
    "puzzle_six =  cv2.imread(\"images/c_puzzle_6.jpg\")\n",
    "\n",
    "small_alpha_1 = cv2.imread(\"images/letter.jpg\")\n",
    "small_alpha_2 = cv2.imread(\"images/s_letters_2.jpg\")"
   ]
  },
  {
   "cell_type": "markdown",
   "id": "dcab9451",
   "metadata": {},
   "source": [
    "# *Connected Component*"
   ]
  },
  {
   "cell_type": "code",
   "execution_count": 3,
   "id": "c8f8f196",
   "metadata": {},
   "outputs": [],
   "source": [
    "# plate_number = cv2.imread(\"images/plate_number.png\")\n",
    "# h, w, _ = puzzle_five.shape\n",
    "# r = w / h\n",
    "# dim = (int(803*r), int(803*r))\n",
    "# puzzle_five = cv2.resize(puzzle_five, dim)\n",
    "\n",
    "gray = cv2.cvtColor(puzzle_five, cv2.COLOR_BGR2GRAY)\n",
    "binary = cv2.threshold(gray, 0, 255, cv2.THRESH_BINARY_INV+cv2.THRESH_OTSU)[1]\n",
    "\n",
    "cv2.imshow(\"Gray\", gray)\n",
    "cv2.imshow(\"Binary\", binary)\n",
    "cv2.waitKey(0)\n",
    "cv2.destroyAllWindows()"
   ]
  },
  {
   "cell_type": "code",
   "execution_count": 5,
   "id": "c0ff6432",
   "metadata": {},
   "outputs": [],
   "source": [
    "output = cv2.connectedComponentsWithStats(binary, 4, cv2.CV_32S)\n",
    "(num_labels, labels, stats, centroid) = output"
   ]
  },
  {
   "cell_type": "code",
   "execution_count": 7,
   "id": "4eb1c4b6",
   "metadata": {},
   "outputs": [],
   "source": [
    "# plate_number = cv2.imread(\"images/plate_number.png\")\n",
    "count = 0\n",
    "for i in range(0, num_labels):\n",
    "    x = stats[i, 0]\n",
    "    y = stats[i, 1]\n",
    "    w = stats[i, 2]\n",
    "    h = stats[i, 3]\n",
    "    area = stats[i, 4]\n",
    "    \n",
    "#     x = stats[i, cv2.CC_STAT_LEFT]\n",
    "#     y = stats[i, cv2.CC_STAT_TOP]\n",
    "#     w = stats[i, cv2.CC_STAT_WIDTH]\n",
    "#     h = stats[i, cv2.CC_STAT_HEIGHT]\n",
    "#     area = stats[i, cv2.CC_STAT_AREA]\n",
    "#     cX, cY = centroid[i]\n",
    "    \n",
    "    output = puzzle_five.copy()\n",
    "    img_height = output.shape[0]\n",
    "    \n",
    "    keepWidth = w>2 or w == 2\n",
    "#     keepHeight = h<20 or h==20\n",
    "    \n",
    "    if (i > 0 and keepWidth and \\\n",
    "        h < abs(img_height-200) and area > 10):\n",
    "#             print(count)\n",
    "#             print(keepWidth, keepHeight)\n",
    "        count+=1\n",
    "            \n",
    "#             char = small_a[y:y+h, x:x+w]\n",
    "\n",
    "        cv2.rectangle(output, (x, y), (x+w, y+h), (0, 0, 255), 3)\n",
    "        cv2.putText(output, str(count), (x, y), cv2.FONT_HERSHEY_SIMPLEX, 0.5, (255, 0, 0), 2, cv2.LINE_AA)\n",
    "\n",
    "    # #     cv2.circle(output, (int(cX), int(cY)), 4, (255, 0, 0), -1)\n",
    "        mask = (labels == i).astype(\"uint8\") * 255\n",
    "\n",
    "        cv2.imshow(\"Output\", output)\n",
    "        cv2.imshow(\"Component\", mask)\n",
    "\n",
    "\n",
    "        k= cv2.waitKey(0)\n",
    "        if k == ord(\"q\"):\n",
    "            break\n",
    "        \n",
    "cv2.destroyAllWindows()"
   ]
  }
 ],
 "metadata": {
  "kernelspec": {
   "display_name": "Python 3",
   "language": "python",
   "name": "python3"
  },
  "language_info": {
   "codemirror_mode": {
    "name": "ipython",
    "version": 3
   },
   "file_extension": ".py",
   "mimetype": "text/x-python",
   "name": "python",
   "nbconvert_exporter": "python",
   "pygments_lexer": "ipython3",
   "version": "3.8.8"
  }
 },
 "nbformat": 4,
 "nbformat_minor": 5
}
